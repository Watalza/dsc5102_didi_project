{
 "cells": [
  {
   "cell_type": "markdown",
   "metadata": {},
   "source": [
    "## Import data from csv using PySpark"
   ]
  },
  {
   "cell_type": "code",
   "execution_count": 38,
   "metadata": {},
   "outputs": [],
   "source": [
    "from pyspark import SparkContext, SparkConf, SQLContext\n",
    "from pyspark.sql.types import *\n",
    "from pyspark.sql import SparkSession\n",
    "from pyspark.sql.functions import udf, from_unixtime"
   ]
  },
  {
   "cell_type": "code",
   "execution_count": 4,
   "metadata": {},
   "outputs": [],
   "source": [
    "sc = SparkContext(\"local\", \"Simple App\")"
   ]
  },
  {
   "cell_type": "code",
   "execution_count": 13,
   "metadata": {},
   "outputs": [],
   "source": [
    "sqlContext = SQLContext(sc)"
   ]
  },
  {
   "cell_type": "code",
   "execution_count": null,
   "metadata": {},
   "outputs": [],
   "source": [
    "# sc.stop()"
   ]
  },
  {
   "cell_type": "code",
   "execution_count": 5,
   "metadata": {},
   "outputs": [],
   "source": [
    "spark = SparkSession.builder.master(\"local\").\\\n",
    "appName(\"Simple App\").\\\n",
    "config(\"spark.some.config.option\", \"some-value\").\\\n",
    "getOrCreate()"
   ]
  },
  {
   "cell_type": "code",
   "execution_count": 6,
   "metadata": {},
   "outputs": [],
   "source": [
    "sample_1_path = 'xian_sample_1.csv'\n",
    "geo_1_path = 'gps_20161001.csv'\n",
    "sample_dir = 'data/'"
   ]
  },
  {
   "cell_type": "markdown",
   "metadata": {},
   "source": [
    "### Version 1: Import RDD from csv, followed by DF creation"
   ]
  },
  {
   "cell_type": "code",
   "execution_count": 7,
   "metadata": {},
   "outputs": [],
   "source": [
    "sample_rdd = sc.textFile(sample_dir + sample_1_path)"
   ]
  },
  {
   "cell_type": "code",
   "execution_count": 14,
   "metadata": {},
   "outputs": [],
   "source": [
    "didi_data_1 = sample_rdd.map(lambda l: l.split(','))\n",
    "didi_data_2 = didi_data_1.map(lambda row: (\n",
    "row[0], row[1], row[2], float(row[3]), float(row[4])))"
   ]
  },
  {
   "cell_type": "code",
   "execution_count": 9,
   "metadata": {},
   "outputs": [],
   "source": [
    "schemaString = \"driver_id order_id timestamp lon lat\""
   ]
  },
  {
   "cell_type": "code",
   "execution_count": 10,
   "metadata": {},
   "outputs": [],
   "source": [
    "fields = [StructField(field_name, StringType(), True) for field_name in schemaString.split()]\n",
    "schema = StructType(fields)"
   ]
  },
  {
   "cell_type": "code",
   "execution_count": 15,
   "metadata": {},
   "outputs": [
    {
     "name": "stdout",
     "output_type": "stream",
     "text": [
      "<class 'pyspark.sql.dataframe.DataFrame'>\n"
     ]
    }
   ],
   "source": [
    "# didi_df = spark.createDataFrame(didi_data, schema)\n",
    "didi_df = spark.createDataFrame(didi_data_2, schema)\n",
    "print(type(didi_df))"
   ]
  },
  {
   "cell_type": "code",
   "execution_count": 16,
   "metadata": {},
   "outputs": [
    {
     "name": "stdout",
     "output_type": "stream",
     "text": [
      "root\n",
      " |-- driver_id: string (nullable = true)\n",
      " |-- order_id: string (nullable = true)\n",
      " |-- timestamp: string (nullable = true)\n",
      " |-- lat: string (nullable = true)\n",
      " |-- lon: string (nullable = true)\n",
      "\n"
     ]
    },
    {
     "data": {
      "text/plain": [
       "[Row(driver_id='a01b8439e1e42ffcd286241b04d9b1b5', order_id='f11440a64a0f084fe346a398c62aa9ad', timestamp='1475277482', lat='108.92466', lon='34.27657'),\n",
       " Row(driver_id='a01b8439e1e42ffcd286241b04d9b1b5', order_id='f11440a64a0f084fe346a398c62aa9ad', timestamp='1475277488', lat='108.92527', lon='34.27658'),\n",
       " Row(driver_id='a01b8439e1e42ffcd286241b04d9b1b5', order_id='f11440a64a0f084fe346a398c62aa9ad', timestamp='1475277506', lat='108.9276', lon='34.27659'),\n",
       " Row(driver_id='a01b8439e1e42ffcd286241b04d9b1b5', order_id='f11440a64a0f084fe346a398c62aa9ad', timestamp='1475277476', lat='108.92399', lon='34.27655'),\n",
       " Row(driver_id='a01b8439e1e42ffcd286241b04d9b1b5', order_id='f11440a64a0f084fe346a398c62aa9ad', timestamp='1475277515', lat='108.9291', lon='34.2766')]"
      ]
     },
     "execution_count": 16,
     "metadata": {},
     "output_type": "execute_result"
    }
   ],
   "source": [
    "didi_df.printSchema()\n",
    "didi_df.head(5)"
   ]
  },
  {
   "cell_type": "markdown",
   "metadata": {},
   "source": [
    "### Version 2: Direct DF import from csv"
   ]
  },
  {
   "cell_type": "code",
   "execution_count": 95,
   "metadata": {},
   "outputs": [],
   "source": [
    "df = sqlContext.read.csv(sample_dir + sample_1_path, )"
   ]
  },
  {
   "cell_type": "code",
   "execution_count": 97,
   "metadata": {},
   "outputs": [
    {
     "name": "stdout",
     "output_type": "stream",
     "text": [
      "root\n",
      " |-- _c0: string (nullable = true)\n",
      " |-- _c1: string (nullable = true)\n",
      " |-- _c2: string (nullable = true)\n",
      " |-- _c3: string (nullable = true)\n",
      " |-- _c4: string (nullable = true)\n",
      "\n"
     ]
    },
    {
     "data": {
      "text/plain": [
       "[Row(_c0='a01b8439e1e42ffcd286241b04d9b1b5', _c1='f11440a64a0f084fe346a398c62aa9ad', _c2='1475277482', _c3='108.92466', _c4='34.27657'),\n",
       " Row(_c0='a01b8439e1e42ffcd286241b04d9b1b5', _c1='f11440a64a0f084fe346a398c62aa9ad', _c2='1475277488', _c3='108.92527', _c4='34.27658'),\n",
       " Row(_c0='a01b8439e1e42ffcd286241b04d9b1b5', _c1='f11440a64a0f084fe346a398c62aa9ad', _c2='1475277506', _c3='108.9276', _c4='34.27659'),\n",
       " Row(_c0='a01b8439e1e42ffcd286241b04d9b1b5', _c1='f11440a64a0f084fe346a398c62aa9ad', _c2='1475277476', _c3='108.92399', _c4='34.27655'),\n",
       " Row(_c0='a01b8439e1e42ffcd286241b04d9b1b5', _c1='f11440a64a0f084fe346a398c62aa9ad', _c2='1475277515', _c3='108.9291', _c4='34.2766')]"
      ]
     },
     "execution_count": 97,
     "metadata": {},
     "output_type": "execute_result"
    }
   ],
   "source": [
    "df.printSchema()\n",
    "df.head(5)"
   ]
  },
  {
   "cell_type": "markdown",
   "metadata": {},
   "source": [
    "## Data Processing"
   ]
  },
  {
   "cell_type": "code",
   "execution_count": 40,
   "metadata": {},
   "outputs": [],
   "source": [
    "new_didi_df = didi_df.withColumn('timestamp_new', from_unixtime(\"timestamp\"))"
   ]
  },
  {
   "cell_type": "code",
   "execution_count": 42,
   "metadata": {},
   "outputs": [
    {
     "name": "stdout",
     "output_type": "stream",
     "text": [
      "Row(driver_id='a01b8439e1e42ffcd286241b04d9b1b5', order_id='f11440a64a0f084fe346a398c62aa9ad', timestamp='1475277482', lat='108.92466', lon='34.27657', timestamp_new='2016-10-01 07:18:02')\n"
     ]
    }
   ],
   "source": [
    "print(new_didi_df.head())"
   ]
  },
  {
   "cell_type": "code",
   "execution_count": 46,
   "metadata": {},
   "outputs": [],
   "source": [
    "from pyspark.sql.window import Window\n",
    "from pyspark.sql.functions import rank, dense_rank\n",
    "window = Window.partitionBy(new_didi_df['order_id']).orderBy(new_didi_df['timestamp_new'])"
   ]
  },
  {
   "cell_type": "code",
   "execution_count": 49,
   "metadata": {},
   "outputs": [
    {
     "name": "stdout",
     "output_type": "stream",
     "text": [
      "+--------------------+--------------------+----------+---------+--------+-------------------+-----+\n",
      "|           driver_id|            order_id| timestamp|      lat|     lon|      timestamp_new|index|\n",
      "+--------------------+--------------------+----------+---------+--------+-------------------+-----+\n",
      "|a01b8439e1e42ffcd...|210acc529e4b9fc55...|1475329529|108.94276|34.27099|2016-10-01 21:45:29|    1|\n",
      "|a01b8439e1e42ffcd...|210acc529e4b9fc55...|1475329532|108.94276|34.27099|2016-10-01 21:45:32|    2|\n",
      "|a01b8439e1e42ffcd...|210acc529e4b9fc55...|1475329535|108.94262|34.27108|2016-10-01 21:45:35|    3|\n",
      "|a01b8439e1e42ffcd...|210acc529e4b9fc55...|1475329538|108.94242|34.27108|2016-10-01 21:45:38|    4|\n",
      "|a01b8439e1e42ffcd...|210acc529e4b9fc55...|1475329541|108.94225|34.27108|2016-10-01 21:45:41|    5|\n",
      "|a01b8439e1e42ffcd...|210acc529e4b9fc55...|1475329544|108.94204|34.27108|2016-10-01 21:45:44|    6|\n",
      "|a01b8439e1e42ffcd...|210acc529e4b9fc55...|1475329547|108.94186|34.27108|2016-10-01 21:45:47|    7|\n",
      "|a01b8439e1e42ffcd...|210acc529e4b9fc55...|1475329550|108.94172|34.27109|2016-10-01 21:45:50|    8|\n",
      "|a01b8439e1e42ffcd...|210acc529e4b9fc55...|1475329553|108.94163|34.27109|2016-10-01 21:45:53|    9|\n",
      "|a01b8439e1e42ffcd...|210acc529e4b9fc55...|1475329556|108.94138| 34.2711|2016-10-01 21:45:56|   10|\n",
      "|a01b8439e1e42ffcd...|210acc529e4b9fc55...|1475329559|108.94126| 34.2711|2016-10-01 21:45:59|   11|\n",
      "|a01b8439e1e42ffcd...|210acc529e4b9fc55...|1475329562|108.94106|34.27111|2016-10-01 21:46:02|   12|\n",
      "|a01b8439e1e42ffcd...|210acc529e4b9fc55...|1475329565|108.94095|34.27112|2016-10-01 21:46:05|   13|\n",
      "|a01b8439e1e42ffcd...|210acc529e4b9fc55...|1475329568|108.94076|34.27112|2016-10-01 21:46:08|   14|\n",
      "|a01b8439e1e42ffcd...|210acc529e4b9fc55...|1475329571|108.94057|34.27113|2016-10-01 21:46:11|   15|\n",
      "|a01b8439e1e42ffcd...|f11440a64a0f084fe...|1475277446|108.92246|34.27442|2016-10-01 07:17:26|    1|\n",
      "|a01b8439e1e42ffcd...|f11440a64a0f084fe...|1475277449|108.92249|34.27464|2016-10-01 07:17:29|    2|\n",
      "|a01b8439e1e42ffcd...|f11440a64a0f084fe...|1475277452|108.92259|34.27483|2016-10-01 07:17:32|    3|\n",
      "|a01b8439e1e42ffcd...|f11440a64a0f084fe...|1475277455|108.92271|34.27507|2016-10-01 07:17:35|    4|\n",
      "|a01b8439e1e42ffcd...|f11440a64a0f084fe...|1475277458|108.92283|34.27533|2016-10-01 07:17:38|    5|\n",
      "+--------------------+--------------------+----------+---------+--------+-------------------+-----+\n",
      "only showing top 20 rows\n",
      "\n"
     ]
    }
   ],
   "source": [
    "new_didi_df.select('*', dense_rank().over(window).alias('index')).show()"
   ]
  },
  {
   "cell_type": "code",
   "execution_count": 61,
   "metadata": {},
   "outputs": [
    {
     "name": "stdout",
     "output_type": "stream",
     "text": [
      "+--------------------+--------------------+----------+---------+--------+-------------------+----+\n",
      "|           driver_id|            order_id| timestamp|      lat|     lon|      timestamp_new|rank|\n",
      "+--------------------+--------------------+----------+---------+--------+-------------------+----+\n",
      "|a01b8439e1e42ffcd...|210acc529e4b9fc55...|1475329529|108.94276|34.27099|2016-10-01 21:45:29|   1|\n",
      "|a01b8439e1e42ffcd...|210acc529e4b9fc55...|1475329532|108.94276|34.27099|2016-10-01 21:45:32|   2|\n",
      "|a01b8439e1e42ffcd...|210acc529e4b9fc55...|1475329535|108.94262|34.27108|2016-10-01 21:45:35|   3|\n",
      "|a01b8439e1e42ffcd...|210acc529e4b9fc55...|1475329538|108.94242|34.27108|2016-10-01 21:45:38|   4|\n",
      "|a01b8439e1e42ffcd...|210acc529e4b9fc55...|1475329541|108.94225|34.27108|2016-10-01 21:45:41|   5|\n",
      "+--------------------+--------------------+----------+---------+--------+-------------------+----+\n",
      "only showing top 5 rows\n",
      "\n"
     ]
    }
   ],
   "source": [
    "ranked_df = new_didi_df.withColumn('rank', \n",
    "                                  dense_rank().over(window))\n",
    "ranked_df.show(5)"
   ]
  },
  {
   "cell_type": "code",
   "execution_count": 68,
   "metadata": {},
   "outputs": [
    {
     "name": "stdout",
     "output_type": "stream",
     "text": [
      "+--------------------+--------------------+----------+---------+--------+-------------------+----+--------------------+----------+---------+--------+-------------------+----+\n",
      "|            order_id|           driver_id| timestamp|      lat|     lon|      timestamp_new|rank|           driver_id| timestamp|      lat|     lon|      timestamp_new|rank|\n",
      "+--------------------+--------------------+----------+---------+--------+-------------------+----+--------------------+----------+---------+--------+-------------------+----+\n",
      "|8c1490989064df3c0...|a01b8439e1e42ffcd...|1475334773| 108.9874|34.21696|2016-10-01 23:12:53|   9|a01b8439e1e42ffcd...|1475334776|108.98698| 34.2172|2016-10-01 23:12:56|  10|\n",
      "|f11440a64a0f084fe...|a01b8439e1e42ffcd...|1475277728|108.95916|34.27597|2016-10-01 07:22:08|  68|a01b8439e1e42ffcd...|1475277731|108.95928|34.27598|2016-10-01 07:22:11|  69|\n",
      "|f11440a64a0f084fe...|a01b8439e1e42ffcd...|1475277605|108.94605|34.27678|2016-10-01 07:20:05|  29|a01b8439e1e42ffcd...|1475277608|108.94625|34.27666|2016-10-01 07:20:08|  30|\n",
      "|8c1490989064df3c0...|a01b8439e1e42ffcd...|1475334740|108.98738|34.21695|2016-10-01 23:12:20|   2|a01b8439e1e42ffcd...|1475334743|108.98763| 34.2172|2016-10-01 23:12:23|   3|\n",
      "|f11440a64a0f084fe...|a01b8439e1e42ffcd...|1475277668|108.95134|34.27588|2016-10-01 07:21:08|  49|a01b8439e1e42ffcd...|1475277671|108.95179|34.27588|2016-10-01 07:21:11|  50|\n",
      "+--------------------+--------------------+----------+---------+--------+-------------------+----+--------------------+----------+---------+--------+-------------------+----+\n",
      "only showing top 5 rows\n",
      "\n"
     ]
    }
   ],
   "source": [
    "joined_df = ranked_df.alias('a').join(ranked_df.alias('b'),\n",
    "                                      on = 'order_id').\\\n",
    "where('a.rank == b.rank-1').show(5)"
   ]
  },
  {
   "cell_type": "code",
   "execution_count": 72,
   "metadata": {},
   "outputs": [
    {
     "ename": "SyntaxError",
     "evalue": "invalid syntax (<ipython-input-72-95cc93c850d0>, line 2)",
     "output_type": "error",
     "traceback": [
      "\u001b[0;36m  File \u001b[0;32m\"<ipython-input-72-95cc93c850d0>\"\u001b[0;36m, line \u001b[0;32m2\u001b[0m\n\u001b[0;31m    $'a.order_id'==$'b.order_id').\\\u001b[0m\n\u001b[0m    ^\u001b[0m\n\u001b[0;31mSyntaxError\u001b[0m\u001b[0;31m:\u001b[0m invalid syntax\n"
     ]
    }
   ],
   "source": [
    "joined_df = ranked_df.alias('a').join(ranked_df.alias('b'),\n",
    "                                      $'a.order_id'==$'b.order_id').\\\n",
    "where('a.rank == b.rank-1').show(5)"
   ]
  },
  {
   "cell_type": "code",
   "execution_count": null,
   "metadata": {},
   "outputs": [],
   "source": []
  }
 ],
 "metadata": {
  "kernelspec": {
   "display_name": "Python 3",
   "language": "python",
   "name": "python3"
  },
  "language_info": {
   "codemirror_mode": {
    "name": "ipython",
    "version": 3
   },
   "file_extension": ".py",
   "mimetype": "text/x-python",
   "name": "python",
   "nbconvert_exporter": "python",
   "pygments_lexer": "ipython3",
   "version": "3.7.2"
  }
 },
 "nbformat": 4,
 "nbformat_minor": 2
}
